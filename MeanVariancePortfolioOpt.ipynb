{
 "cells": [
  {
   "cell_type": "markdown",
   "id": "b057fd2c",
   "metadata": {},
   "source": [
    "### Problem 1"
   ]
  },
  {
   "cell_type": "markdown",
   "id": "d9963cd7",
   "metadata": {},
   "source": [
    "### Cash Matching\n",
    "Two strategies of asset-liability portfolio managment are cash matching and portfolio immunization. \n",
    "When a company construct a portfolio to fund its future liabilities, there is a risk that on the due of the liabilities, the value of portfoli is not meeting the target value. \n",
    "In portfolio immunization, to immunize the portfolio the duration of the portfolio should be equal to the duration of liabilities. \n",
    "In cash matching strategy, the cash flow from principal and coupon should be exactly equal the liability amounts. "
   ]
  },
  {
   "cell_type": "code",
   "execution_count": 249,
   "id": "7b6ec328",
   "metadata": {},
   "outputs": [
    {
     "name": "stdout",
     "output_type": "stream",
     "text": [
      "Requirement already satisfied: cvxpy in c:\\users\\samir\\anaconda3\\lib\\site-packages (1.3.1)\n",
      "Requirement already satisfied: ecos>=2 in c:\\users\\samir\\anaconda3\\lib\\site-packages (from cvxpy) (2.0.12)\n",
      "Requirement already satisfied: setuptools>65.5.1 in c:\\users\\samir\\anaconda3\\lib\\site-packages (from cvxpy) (65.6.3)\n",
      "Requirement already satisfied: scipy>=1.1.0 in c:\\users\\samir\\anaconda3\\lib\\site-packages (from cvxpy) (1.10.1)\n",
      "Requirement already satisfied: numpy>=1.15 in c:\\users\\samir\\anaconda3\\lib\\site-packages (from cvxpy) (1.23.5)\n",
      "Requirement already satisfied: scs>=1.1.6 in c:\\users\\samir\\anaconda3\\lib\\site-packages (from cvxpy) (3.2.3)\n",
      "Requirement already satisfied: osqp>=0.4.1 in c:\\users\\samir\\anaconda3\\lib\\site-packages (from cvxpy) (0.6.2.post8)\n",
      "Requirement already satisfied: qdldl in c:\\users\\samir\\anaconda3\\lib\\site-packages (from osqp>=0.4.1->cvxpy) (0.1.7)\n"
     ]
    },
    {
     "name": "stderr",
     "output_type": "stream",
     "text": [
      "WARNING: Ignoring invalid distribution -cipy (c:\\users\\samir\\anaconda3\\lib\\site-packages)\n",
      "WARNING: Ignoring invalid distribution -cipy (c:\\users\\samir\\anaconda3\\lib\\site-packages)\n",
      "WARNING: Ignoring invalid distribution -cipy (c:\\users\\samir\\anaconda3\\lib\\site-packages)\n",
      "WARNING: Ignoring invalid distribution -cipy (c:\\users\\samir\\anaconda3\\lib\\site-packages)\n",
      "WARNING: Ignoring invalid distribution -cipy (c:\\users\\samir\\anaconda3\\lib\\site-packages)\n",
      "WARNING: Ignoring invalid distribution -cipy (c:\\users\\samir\\anaconda3\\lib\\site-packages)\n"
     ]
    }
   ],
   "source": [
    "! pip install cvxpy\n",
    "import cvxpy as cp\n",
    "import warnings\n",
    "import pandas as pd\n",
    "import numpy as np\n",
    "import yfinance as yf\n",
    "from scipy.optimize import linprog\n",
    "warnings.filterwarnings(\"ignore\")\n",
    "import matplotlib.pyplot as plt\n"
   ]
  },
  {
   "cell_type": "code",
   "execution_count": 135,
   "id": "3fae53a9",
   "metadata": {},
   "outputs": [
    {
     "data": {
      "text/html": [
       "<div>\n",
       "<style scoped>\n",
       "    .dataframe tbody tr th:only-of-type {\n",
       "        vertical-align: middle;\n",
       "    }\n",
       "\n",
       "    .dataframe tbody tr th {\n",
       "        vertical-align: top;\n",
       "    }\n",
       "\n",
       "    .dataframe thead th {\n",
       "        text-align: right;\n",
       "    }\n",
       "</style>\n",
       "<table border=\"1\" class=\"dataframe\">\n",
       "  <thead>\n",
       "    <tr style=\"text-align: right;\">\n",
       "      <th></th>\n",
       "      <th>year 1</th>\n",
       "      <th>year 2</th>\n",
       "      <th>year 3</th>\n",
       "      <th>year 4</th>\n",
       "      <th>year 5</th>\n",
       "      <th>year 6</th>\n",
       "    </tr>\n",
       "  </thead>\n",
       "  <tbody>\n",
       "    <tr>\n",
       "      <th>Libilities</th>\n",
       "      <td>500</td>\n",
       "      <td>200</td>\n",
       "      <td>800</td>\n",
       "      <td>200</td>\n",
       "      <td>800</td>\n",
       "      <td>1200</td>\n",
       "    </tr>\n",
       "  </tbody>\n",
       "</table>\n",
       "</div>"
      ],
      "text/plain": [
       "            year 1  year 2  year 3  year 4  year 5  year 6\n",
       "Libilities     500     200     800     200     800    1200"
      ]
     },
     "execution_count": 135,
     "metadata": {},
     "output_type": "execute_result"
    }
   ],
   "source": [
    "year_1 = [500]\n",
    "year_2 = [200]\n",
    "year_3 = [800]\n",
    "year_4 = [200]\n",
    "year_5 = [800]\n",
    "year_6 = [1200]\n",
    "index_data = [\"Libilities\"]\n",
    "Liabilities= pd.DataFrame({\"year 1\": year_1, \"year 2\": year_2, \"year 3\": year_3,\"year 4\": year_4\n",
    "                          ,\"year 5\": year_5,\"year 6\": year_6}, index=index_data)\n",
    "Liabilities"
   ]
  },
  {
   "cell_type": "code",
   "execution_count": 136,
   "id": "3cdd231b",
   "metadata": {},
   "outputs": [
    {
     "data": {
      "text/html": [
       "<div>\n",
       "<style scoped>\n",
       "    .dataframe tbody tr th:only-of-type {\n",
       "        vertical-align: middle;\n",
       "    }\n",
       "\n",
       "    .dataframe tbody tr th {\n",
       "        vertical-align: top;\n",
       "    }\n",
       "\n",
       "    .dataframe thead th {\n",
       "        text-align: right;\n",
       "    }\n",
       "</style>\n",
       "<table border=\"1\" class=\"dataframe\">\n",
       "  <thead>\n",
       "    <tr style=\"text-align: right;\">\n",
       "      <th></th>\n",
       "      <th>bond 1</th>\n",
       "      <th>bond 2</th>\n",
       "      <th>bond 3</th>\n",
       "      <th>bond 4</th>\n",
       "      <th>bond 5</th>\n",
       "      <th>bond 6</th>\n",
       "      <th>price</th>\n",
       "    </tr>\n",
       "  </thead>\n",
       "  <tbody>\n",
       "    <tr>\n",
       "      <th>0</th>\n",
       "      <td>10.0</td>\n",
       "      <td>10</td>\n",
       "      <td>10</td>\n",
       "      <td>10</td>\n",
       "      <td>10</td>\n",
       "      <td>110</td>\n",
       "      <td>109.0</td>\n",
       "    </tr>\n",
       "    <tr>\n",
       "      <th>1</th>\n",
       "      <td>7.0</td>\n",
       "      <td>7</td>\n",
       "      <td>7</td>\n",
       "      <td>7</td>\n",
       "      <td>7</td>\n",
       "      <td>107</td>\n",
       "      <td>94.8</td>\n",
       "    </tr>\n",
       "    <tr>\n",
       "      <th>2</th>\n",
       "      <td>8.0</td>\n",
       "      <td>8</td>\n",
       "      <td>8</td>\n",
       "      <td>8</td>\n",
       "      <td>8</td>\n",
       "      <td>108</td>\n",
       "      <td>99.5</td>\n",
       "    </tr>\n",
       "    <tr>\n",
       "      <th>3</th>\n",
       "      <td>6.0</td>\n",
       "      <td>6</td>\n",
       "      <td>6</td>\n",
       "      <td>6</td>\n",
       "      <td>106</td>\n",
       "      <td>0</td>\n",
       "      <td>93.1</td>\n",
       "    </tr>\n",
       "    <tr>\n",
       "      <th>4</th>\n",
       "      <td>7.0</td>\n",
       "      <td>7</td>\n",
       "      <td>7</td>\n",
       "      <td>7</td>\n",
       "      <td>107</td>\n",
       "      <td>0</td>\n",
       "      <td>97.2</td>\n",
       "    </tr>\n",
       "    <tr>\n",
       "      <th>5</th>\n",
       "      <td>6.0</td>\n",
       "      <td>6</td>\n",
       "      <td>6</td>\n",
       "      <td>106</td>\n",
       "      <td>0</td>\n",
       "      <td>0</td>\n",
       "      <td>96.3</td>\n",
       "    </tr>\n",
       "    <tr>\n",
       "      <th>6</th>\n",
       "      <td>5.0</td>\n",
       "      <td>5</td>\n",
       "      <td>5</td>\n",
       "      <td>105</td>\n",
       "      <td>0</td>\n",
       "      <td>0</td>\n",
       "      <td>92.9</td>\n",
       "    </tr>\n",
       "    <tr>\n",
       "      <th>7</th>\n",
       "      <td>10.0</td>\n",
       "      <td>10</td>\n",
       "      <td>110</td>\n",
       "      <td>0</td>\n",
       "      <td>0</td>\n",
       "      <td>0</td>\n",
       "      <td>110.0</td>\n",
       "    </tr>\n",
       "    <tr>\n",
       "      <th>8</th>\n",
       "      <td>8.0</td>\n",
       "      <td>8</td>\n",
       "      <td>108</td>\n",
       "      <td>0</td>\n",
       "      <td>0</td>\n",
       "      <td>0</td>\n",
       "      <td>104.0</td>\n",
       "    </tr>\n",
       "    <tr>\n",
       "      <th>9</th>\n",
       "      <td>6.0</td>\n",
       "      <td>6</td>\n",
       "      <td>106</td>\n",
       "      <td>0</td>\n",
       "      <td>0</td>\n",
       "      <td>0</td>\n",
       "      <td>101.0</td>\n",
       "    </tr>\n",
       "    <tr>\n",
       "      <th>10</th>\n",
       "      <td>10.0</td>\n",
       "      <td>110</td>\n",
       "      <td>0</td>\n",
       "      <td>0</td>\n",
       "      <td>0</td>\n",
       "      <td>0</td>\n",
       "      <td>107.0</td>\n",
       "    </tr>\n",
       "    <tr>\n",
       "      <th>11</th>\n",
       "      <td>7.0</td>\n",
       "      <td>107</td>\n",
       "      <td>0</td>\n",
       "      <td>0</td>\n",
       "      <td>0</td>\n",
       "      <td>0</td>\n",
       "      <td>102.0</td>\n",
       "    </tr>\n",
       "    <tr>\n",
       "      <th>12</th>\n",
       "      <td>100.0</td>\n",
       "      <td>0</td>\n",
       "      <td>0</td>\n",
       "      <td>0</td>\n",
       "      <td>0</td>\n",
       "      <td>0</td>\n",
       "      <td>95.2</td>\n",
       "    </tr>\n",
       "  </tbody>\n",
       "</table>\n",
       "</div>"
      ],
      "text/plain": [
       "    bond 1  bond 2  bond 3  bond 4  bond 5  bond 6  price\n",
       "0     10.0      10      10      10      10     110  109.0\n",
       "1      7.0       7       7       7       7     107   94.8\n",
       "2      8.0       8       8       8       8     108   99.5\n",
       "3      6.0       6       6       6     106       0   93.1\n",
       "4      7.0       7       7       7     107       0   97.2\n",
       "5      6.0       6       6     106       0       0   96.3\n",
       "6      5.0       5       5     105       0       0   92.9\n",
       "7     10.0      10     110       0       0       0  110.0\n",
       "8      8.0       8     108       0       0       0  104.0\n",
       "9      6.0       6     106       0       0       0  101.0\n",
       "10    10.0     110       0       0       0       0  107.0\n",
       "11     7.0     107       0       0       0       0  102.0\n",
       "12   100.0       0       0       0       0       0   95.2"
      ]
     },
     "execution_count": 136,
     "metadata": {},
     "output_type": "execute_result"
    }
   ],
   "source": [
    "bond1 = [10.0,7.0,8.0,6.0,7.0,6.0,5.0,10.0,8.0,6.0,10.0,7.0,100.0]\n",
    "bond2 = [10,7,8,6,7,6,5,10,8,6,110,107]\n",
    "bond3 = [10,7,8,6,7,6,5,110,108,106]\n",
    "bond4 = [10,7,8,6,7,106,105]\n",
    "bond5 = [10,7,8,106,107]\n",
    "bond6 = [110,107,108]\n",
    "price = [109,94.8,99.5,93.1,97.2,96.30,92.90,110,104,101,107,102,95.2]\n",
    "max_len = max(len(bond1), len(bond2), len(bond3), len(bond4), len(bond5), len(bond6), len(price))\n",
    "\n",
    "bond = pd.DataFrame({\n",
    "    \"bond 1\": bond1 + [0] * (max_len - len(bond1)),\n",
    "    \"bond 2\": bond2 + [0] * (max_len - len(bond2)),\n",
    "    \"bond 3\": bond3 + [0] * (max_len - len(bond3)),\n",
    "    \"bond 4\": bond4 + [0] * (max_len - len(bond4)),\n",
    "    \"bond 5\": bond5 + [0] * (max_len - len(bond5)),\n",
    "    \"bond 6\": bond6 + [0] * (max_len - len(bond6)),\n",
    "    \"price\": price\n",
    "})\n",
    "\n",
    "bond"
   ]
  },
  {
   "cell_type": "code",
   "execution_count": 137,
   "id": "f0875926",
   "metadata": {},
   "outputs": [
    {
     "data": {
      "text/html": [
       "<div>\n",
       "<style scoped>\n",
       "    .dataframe tbody tr th:only-of-type {\n",
       "        vertical-align: middle;\n",
       "    }\n",
       "\n",
       "    .dataframe tbody tr th {\n",
       "        vertical-align: top;\n",
       "    }\n",
       "\n",
       "    .dataframe thead th {\n",
       "        text-align: right;\n",
       "    }\n",
       "</style>\n",
       "<table border=\"1\" class=\"dataframe\">\n",
       "  <thead>\n",
       "    <tr style=\"text-align: right;\">\n",
       "      <th></th>\n",
       "      <th>year 1</th>\n",
       "      <th>year 2</th>\n",
       "      <th>year 3</th>\n",
       "      <th>year 4</th>\n",
       "      <th>year 5</th>\n",
       "      <th>year 6</th>\n",
       "    </tr>\n",
       "  </thead>\n",
       "  <tbody>\n",
       "    <tr>\n",
       "      <th>spot rate</th>\n",
       "      <td>0.0504</td>\n",
       "      <td>0.0594</td>\n",
       "      <td>0.0636</td>\n",
       "      <td>0.0718</td>\n",
       "      <td>0.0789</td>\n",
       "      <td>0.0839</td>\n",
       "    </tr>\n",
       "  </tbody>\n",
       "</table>\n",
       "</div>"
      ],
      "text/plain": [
       "           year 1  year 2  year 3  year 4  year 5  year 6\n",
       "spot rate  0.0504  0.0594  0.0636  0.0718  0.0789  0.0839"
      ]
     },
     "execution_count": 137,
     "metadata": {},
     "output_type": "execute_result"
    }
   ],
   "source": [
    "year_1 = [0.0504]\n",
    "year_2 = [0.0594]\n",
    "year_3 = [0.0636]\n",
    "year_4 = [0.0718]\n",
    "year_5 = [0.0789]\n",
    "year_6 = [0.0839]\n",
    "index_data = [\"spot rate\"]\n",
    "sopt_rate= pd.DataFrame({\"year 1\": year_1, \"year 2\": year_2, \"year 3\": year_3,\"year 4\": year_4\n",
    "                          ,\"year 5\": year_5,\"year 6\": year_6}, index=index_data)\n",
    "sopt_rate"
   ]
  },
  {
   "cell_type": "markdown",
   "id": "8605c2eb",
   "metadata": {},
   "source": [
    "###  Solve the linear programing with scipy\n",
    "- #### Without investment\n",
    "- min 109x1+94.80x2+99.5x3+93.1x4+97.2x5+96.3x6+92.9x7+110x8+104x9+101x10+107x11+102x12+95.2x13\n",
    "- st: \n",
    "-    10x1+7x2+8x3+6x4+7x5+6x6+5x7+10x8+8x9+6x10+10x11+7x12+100x13 >= 500 \n",
    "-    10x1+7x2+8x3+6x4+7x5+6x6+5x7+10x8+8x9+6x10+110x11+107x12 > = 200\n",
    "-    10x1+7x2+8x3+6x4+7x5+6x6+5x7+110x8+108x9+106x10 >= 800\n",
    "-    10x1+7x2+8x3+6x4+7x5+106x6+105x7 > = 200\n",
    "-    10x1+7x2+8x3+106x4+107x5 >= 800\n",
    "-    110x1+107x2+108x3 > = 1200\n"
   ]
  },
  {
   "cell_type": "code",
   "execution_count": 138,
   "id": "e09672a9",
   "metadata": {},
   "outputs": [
    {
     "data": {
      "text/plain": [
       "array([109. ,  94.8,  99.5,  93.1,  97.2,  96.3,  92.9, 110. , 104. ,\n",
       "       101. , 107. , 102. ,  95.2])"
      ]
     },
     "execution_count": 138,
     "metadata": {},
     "output_type": "execute_result"
    }
   ],
   "source": [
    "c = []\n",
    "for i in bond.index:\n",
    "    bond_price = bond[\"price\"][i]\n",
    "    c.append(bond_price)\n",
    "c = np.array(c)\n",
    "c"
   ]
  },
  {
   "cell_type": "code",
   "execution_count": 139,
   "id": "7190ffa2",
   "metadata": {},
   "outputs": [],
   "source": [
    "m,n = bond.shape\n",
    "A = []\n",
    "for j in range(n-1):\n",
    "    A.append(bond.iloc[:,j].tolist())\n",
    "\n",
    "A = np.array(A)\n",
    "A = A*-1"
   ]
  },
  {
   "cell_type": "code",
   "execution_count": 140,
   "id": "6b5353a2",
   "metadata": {},
   "outputs": [],
   "source": [
    "b = [-500,-200,-800,-200,-800,-1200]"
   ]
  },
  {
   "cell_type": "code",
   "execution_count": 141,
   "id": "219767cb",
   "metadata": {},
   "outputs": [
    {
     "data": {
      "text/plain": [
       "2754.2844571158125"
      ]
     },
     "execution_count": 141,
     "metadata": {},
     "output_type": "execute_result"
    }
   ],
   "source": [
    "cost = linprog(c, A_ub=A, b_ub=b)\n",
    "cost.fun"
   ]
  },
  {
   "cell_type": "code",
   "execution_count": 142,
   "id": "ecfab77a",
   "metadata": {},
   "outputs": [
    {
     "data": {
      "text/plain": [
       "array([ 0.        ,  0.        , 11.11111111,  0.        ,  6.64589823,\n",
       "        0.60933796,  0.        ,  0.        ,  6.11975737,  0.        ,\n",
       "        0.10887033,  0.        ,  3.10887033])"
      ]
     },
     "execution_count": 142,
     "metadata": {},
     "output_type": "execute_result"
    }
   ],
   "source": [
    "cost.x"
   ]
  },
  {
   "cell_type": "markdown",
   "id": "a3fac529",
   "metadata": {},
   "source": [
    "- #### with investment at zero rate\n",
    "- min 109x1+94.80x2+99.5x3+93.1x4+97.2x5+96.3x6+92.9x7+110x8+104x9+101x10+107x11+102x12+95.2x13+0x14+0x15+0x16+0x17+0x18\n",
    "- st: \n",
    "-    10x1+7x2+8x3+6x4+7x5+6x6+5x7+10x8+8x9+6x10+10x11+7x12+100x13-x14 >= 500 \n",
    "-    10x1+7x2+8x3+6x4+7x5+6x6+5x7+10x8+8x9+6x10+110x11+107x12+x14-x15 > = 200\n",
    "-    10x1+7x2+8x3+6x4+7x5+6x6+5x7+110x8+108x9+106x10+x15 -x16 >= 800\n",
    "-    10x1+7x2+8x3+6x4+7x5+106x6+105x7+x16 -x17 > = 200\n",
    "-    10x1+7x2+8x3+106x4+107x5+x17 -x18>= 800\n",
    "-    110x1+107x2+108x3+x18 > = 1200"
   ]
  },
  {
   "cell_type": "code",
   "execution_count": 143,
   "id": "f1e852c8",
   "metadata": {},
   "outputs": [
    {
     "data": {
      "text/plain": [
       "array([109. ,  94.8,  99.5,  93.1,  97.2,  96.3,  92.9, 110. , 104. ,\n",
       "       101. , 107. , 102. ,  95.2,   0. ,   0. ,   0. ,   0. ,   0. ])"
      ]
     },
     "execution_count": 143,
     "metadata": {},
     "output_type": "execute_result"
    }
   ],
   "source": [
    "c_1 = np.concatenate([c, np.zeros(5)])\n",
    "c_1"
   ]
  },
  {
   "cell_type": "code",
   "execution_count": 144,
   "id": "0bc424cc",
   "metadata": {},
   "outputs": [
    {
     "data": {
      "text/plain": [
       "array([[ -10.,   -7.,   -8.,   -6.,   -7.,   -6.,   -5.,  -10.,   -8.,\n",
       "          -6.,  -10.,   -7., -100.,    1.,    0.,    0.,    0.,    0.],\n",
       "       [ -10.,   -7.,   -8.,   -6.,   -7.,   -6.,   -5.,  -10.,   -8.,\n",
       "          -6., -110., -107.,   -0.,   -1.,    1.,    0.,    0.,    0.],\n",
       "       [ -10.,   -7.,   -8.,   -6.,   -7.,   -6.,   -5., -110., -108.,\n",
       "        -106.,   -0.,   -0.,   -0.,    0.,   -1.,    1.,    0.,    0.],\n",
       "       [ -10.,   -7.,   -8.,   -6.,   -7., -106., -105.,   -0.,   -0.,\n",
       "          -0.,   -0.,   -0.,   -0.,    0.,    0.,   -1.,    1.,    0.],\n",
       "       [ -10.,   -7.,   -8., -106., -107.,   -0.,   -0.,   -0.,   -0.,\n",
       "          -0.,   -0.,   -0.,   -0.,    0.,    0.,    0.,   -1.,    1.],\n",
       "       [-110., -107., -108.,   -0.,   -0.,   -0.,   -0.,   -0.,   -0.,\n",
       "          -0.,   -0.,   -0.,   -0.,    0.,    0.,    0.,    0.,   -1.]])"
      ]
     },
     "execution_count": 144,
     "metadata": {},
     "output_type": "execute_result"
    }
   ],
   "source": [
    "investment_mat = [[1,0,0,0,0],[-1,1,0,0,0],[0,-1,1,0,0]\n",
    "                  ,[0,0,-1,1,0],[0,0,0,-1,1],[0,0,0,0,-1]]\n",
    "A_1 = np.concatenate((A, investment_mat),axis =1)\n",
    "A_1"
   ]
  },
  {
   "cell_type": "code",
   "execution_count": 145,
   "id": "cb1dd75f",
   "metadata": {},
   "outputs": [
    {
     "data": {
      "text/plain": [
       "2754.2844571158166"
      ]
     },
     "execution_count": 145,
     "metadata": {},
     "output_type": "execute_result"
    }
   ],
   "source": [
    "cost_1 = linprog(c_1, A_ub=A_1, b_ub=b)\n",
    "cost_1.fun"
   ]
  },
  {
   "cell_type": "code",
   "execution_count": 146,
   "id": "20c17f7f",
   "metadata": {},
   "outputs": [
    {
     "data": {
      "text/plain": [
       "array([ 0.        ,  0.        , 11.11111111,  0.        ,  6.64589823,\n",
       "        0.60933796,  0.        ,  0.        ,  6.11975737,  0.        ,\n",
       "        0.10887033,  0.        ,  3.10887033,  0.        ,  0.        ,\n",
       "        0.        ,  0.        ,  0.        ])"
      ]
     },
     "execution_count": 146,
     "metadata": {},
     "output_type": "execute_result"
    }
   ],
   "source": [
    "cost_1.x"
   ]
  },
  {
   "cell_type": "markdown",
   "id": "b901710e",
   "metadata": {},
   "source": [
    "- #### with investment at forward rate\n",
    "- first we need to calculate the "
   ]
  },
  {
   "cell_type": "code",
   "execution_count": 147,
   "id": "9df83aaa",
   "metadata": {},
   "outputs": [],
   "source": [
    "spotRate = sopt_rate.iloc[0].values"
   ]
  },
  {
   "cell_type": "code",
   "execution_count": 148,
   "id": "70ce9b40",
   "metadata": {},
   "outputs": [],
   "source": [
    "forward_rate = []\n",
    "for i in range(len(spotRate)-1):\n",
    "    forwardRate  = ((1+spotRate[i+1])**(i+2))/((1+spotRate[i])**(i+1)) - 1\n",
    "    forward_rate.append(forwardRate)"
   ]
  },
  {
   "cell_type": "code",
   "execution_count": 149,
   "id": "46d81e17",
   "metadata": {},
   "outputs": [],
   "source": [
    "inves_mat = [[1,0,0,0,0],[-(1+forward_rate[0]),1,0,0,0],[0,-(1+forward_rate[1]),1,0,0]\n",
    "                  ,[0,0,-(1+forward_rate[2]),1,0],[0,0,0,-(1+forward_rate[3]),1],[0,0,0,0,-(1+forward_rate[4])]]\n",
    "A_2 = np.concatenate((A, inves_mat),axis =1)"
   ]
  },
  {
   "cell_type": "code",
   "execution_count": 150,
   "id": "d38d024a",
   "metadata": {},
   "outputs": [
    {
     "data": {
      "text/plain": [
       "2745.575510896118"
      ]
     },
     "execution_count": 150,
     "metadata": {},
     "output_type": "execute_result"
    }
   ],
   "source": [
    "lb = np.zeros(18)\n",
    "ub = np.ones(18) * np.inf\n",
    "cost_2 = linprog(c_1, A_ub=A_2, b_ub=b, bounds=list(zip(lb, ub)))\n",
    "cost_2.fun"
   ]
  },
  {
   "cell_type": "code",
   "execution_count": 151,
   "id": "6c91d0d3",
   "metadata": {},
   "outputs": [
    {
     "data": {
      "text/plain": [
       "array([   0.        ,    0.        ,    0.        ,    0.        ,\n",
       "          0.        ,    0.        ,    0.        ,    0.        ,\n",
       "          0.        ,    0.        ,   23.28247344,    0.        ,\n",
       "          2.67175266,    0.        , 2361.07207836, 1731.18736603,\n",
       "       1698.733876  , 1081.81229708])"
      ]
     },
     "execution_count": 151,
     "metadata": {},
     "output_type": "execute_result"
    }
   ],
   "source": [
    "cost_2.x"
   ]
  },
  {
   "cell_type": "markdown",
   "id": "f2562ad0",
   "metadata": {},
   "source": [
    "#### Optimal Immunization\n",
    "for optimal immunization, constraints are :\n",
    "- present value of bonds >= present values of liabilities\n",
    "- dollar duration of bonds >= dollar duration of liabilities (Dollar duration is one of several different measurements of bond's duration)"
   ]
  },
  {
   "cell_type": "code",
   "execution_count": 152,
   "id": "2ff53af4",
   "metadata": {},
   "outputs": [
    {
     "data": {
      "text/plain": [
       "2757.9367548911464"
      ]
     },
     "execution_count": 152,
     "metadata": {},
     "output_type": "execute_result"
    }
   ],
   "source": [
    "# present value of liabilities\n",
    "liabilities = Liabilities.iloc[0].values\n",
    "pv_liabilities = []\n",
    "for i in range (len(spotRate)):\n",
    "    pv =liabilities[i]/((1+spotRate[i])**(i+1))\n",
    "    pv_liabilities.append(pv)\n",
    "    \n",
    "presentValueLiabilities = sum(pv_liabilities)\n",
    "presentValueLiabilities"
   ]
  },
  {
   "cell_type": "code",
   "execution_count": 153,
   "id": "b64fd7d6",
   "metadata": {},
   "outputs": [
    {
     "data": {
      "text/html": [
       "<div>\n",
       "<style scoped>\n",
       "    .dataframe tbody tr th:only-of-type {\n",
       "        vertical-align: middle;\n",
       "    }\n",
       "\n",
       "    .dataframe tbody tr th {\n",
       "        vertical-align: top;\n",
       "    }\n",
       "\n",
       "    .dataframe thead th {\n",
       "        text-align: right;\n",
       "    }\n",
       "</style>\n",
       "<table border=\"1\" class=\"dataframe\">\n",
       "  <thead>\n",
       "    <tr style=\"text-align: right;\">\n",
       "      <th></th>\n",
       "      <th>bond 1</th>\n",
       "      <th>bond 2</th>\n",
       "      <th>bond 3</th>\n",
       "      <th>bond 4</th>\n",
       "      <th>bond 5</th>\n",
       "      <th>bond 6</th>\n",
       "      <th>price</th>\n",
       "    </tr>\n",
       "  </thead>\n",
       "  <tbody>\n",
       "    <tr>\n",
       "      <th>0</th>\n",
       "      <td>10.0</td>\n",
       "      <td>10</td>\n",
       "      <td>10</td>\n",
       "      <td>10</td>\n",
       "      <td>10</td>\n",
       "      <td>110</td>\n",
       "      <td>109.0</td>\n",
       "    </tr>\n",
       "    <tr>\n",
       "      <th>1</th>\n",
       "      <td>7.0</td>\n",
       "      <td>7</td>\n",
       "      <td>7</td>\n",
       "      <td>7</td>\n",
       "      <td>7</td>\n",
       "      <td>107</td>\n",
       "      <td>94.8</td>\n",
       "    </tr>\n",
       "    <tr>\n",
       "      <th>2</th>\n",
       "      <td>8.0</td>\n",
       "      <td>8</td>\n",
       "      <td>8</td>\n",
       "      <td>8</td>\n",
       "      <td>8</td>\n",
       "      <td>108</td>\n",
       "      <td>99.5</td>\n",
       "    </tr>\n",
       "    <tr>\n",
       "      <th>3</th>\n",
       "      <td>6.0</td>\n",
       "      <td>6</td>\n",
       "      <td>6</td>\n",
       "      <td>6</td>\n",
       "      <td>106</td>\n",
       "      <td>0</td>\n",
       "      <td>93.1</td>\n",
       "    </tr>\n",
       "    <tr>\n",
       "      <th>4</th>\n",
       "      <td>7.0</td>\n",
       "      <td>7</td>\n",
       "      <td>7</td>\n",
       "      <td>7</td>\n",
       "      <td>107</td>\n",
       "      <td>0</td>\n",
       "      <td>97.2</td>\n",
       "    </tr>\n",
       "    <tr>\n",
       "      <th>5</th>\n",
       "      <td>6.0</td>\n",
       "      <td>6</td>\n",
       "      <td>6</td>\n",
       "      <td>106</td>\n",
       "      <td>0</td>\n",
       "      <td>0</td>\n",
       "      <td>96.3</td>\n",
       "    </tr>\n",
       "    <tr>\n",
       "      <th>6</th>\n",
       "      <td>5.0</td>\n",
       "      <td>5</td>\n",
       "      <td>5</td>\n",
       "      <td>105</td>\n",
       "      <td>0</td>\n",
       "      <td>0</td>\n",
       "      <td>92.9</td>\n",
       "    </tr>\n",
       "    <tr>\n",
       "      <th>7</th>\n",
       "      <td>10.0</td>\n",
       "      <td>10</td>\n",
       "      <td>110</td>\n",
       "      <td>0</td>\n",
       "      <td>0</td>\n",
       "      <td>0</td>\n",
       "      <td>110.0</td>\n",
       "    </tr>\n",
       "    <tr>\n",
       "      <th>8</th>\n",
       "      <td>8.0</td>\n",
       "      <td>8</td>\n",
       "      <td>108</td>\n",
       "      <td>0</td>\n",
       "      <td>0</td>\n",
       "      <td>0</td>\n",
       "      <td>104.0</td>\n",
       "    </tr>\n",
       "    <tr>\n",
       "      <th>9</th>\n",
       "      <td>6.0</td>\n",
       "      <td>6</td>\n",
       "      <td>106</td>\n",
       "      <td>0</td>\n",
       "      <td>0</td>\n",
       "      <td>0</td>\n",
       "      <td>101.0</td>\n",
       "    </tr>\n",
       "    <tr>\n",
       "      <th>10</th>\n",
       "      <td>10.0</td>\n",
       "      <td>110</td>\n",
       "      <td>0</td>\n",
       "      <td>0</td>\n",
       "      <td>0</td>\n",
       "      <td>0</td>\n",
       "      <td>107.0</td>\n",
       "    </tr>\n",
       "    <tr>\n",
       "      <th>11</th>\n",
       "      <td>7.0</td>\n",
       "      <td>107</td>\n",
       "      <td>0</td>\n",
       "      <td>0</td>\n",
       "      <td>0</td>\n",
       "      <td>0</td>\n",
       "      <td>102.0</td>\n",
       "    </tr>\n",
       "    <tr>\n",
       "      <th>12</th>\n",
       "      <td>100.0</td>\n",
       "      <td>0</td>\n",
       "      <td>0</td>\n",
       "      <td>0</td>\n",
       "      <td>0</td>\n",
       "      <td>0</td>\n",
       "      <td>95.2</td>\n",
       "    </tr>\n",
       "  </tbody>\n",
       "</table>\n",
       "</div>"
      ],
      "text/plain": [
       "    bond 1  bond 2  bond 3  bond 4  bond 5  bond 6  price\n",
       "0     10.0      10      10      10      10     110  109.0\n",
       "1      7.0       7       7       7       7     107   94.8\n",
       "2      8.0       8       8       8       8     108   99.5\n",
       "3      6.0       6       6       6     106       0   93.1\n",
       "4      7.0       7       7       7     107       0   97.2\n",
       "5      6.0       6       6     106       0       0   96.3\n",
       "6      5.0       5       5     105       0       0   92.9\n",
       "7     10.0      10     110       0       0       0  110.0\n",
       "8      8.0       8     108       0       0       0  104.0\n",
       "9      6.0       6     106       0       0       0  101.0\n",
       "10    10.0     110       0       0       0       0  107.0\n",
       "11     7.0     107       0       0       0       0  102.0\n",
       "12   100.0       0       0       0       0       0   95.2"
      ]
     },
     "execution_count": 153,
     "metadata": {},
     "output_type": "execute_result"
    }
   ],
   "source": [
    "bond"
   ]
  },
  {
   "cell_type": "code",
   "execution_count": 155,
   "id": "59543855",
   "metadata": {},
   "outputs": [
    {
     "data": {
      "text/plain": [
       "[484.81772630028456,\n",
       " 441.7837348255197,\n",
       " 456.12839865044134,\n",
       " 382.60293221465054,\n",
       " 393.53388515906147,\n",
       " 329.37238347580234,\n",
       " 321.61160267687325,\n",
       " 283.75420557859707,\n",
       " 273.8887979543835,\n",
       " 264.0233903301699,\n",
       " 194.0936548208736,\n",
       " 186.3283584082791,\n",
       " 90.63388030759255]"
      ]
     },
     "execution_count": 155,
     "metadata": {},
     "output_type": "execute_result"
    }
   ],
   "source": [
    "# dollar duration of bonds\n",
    "Bond_DD = []\n",
    "\n",
    "for j in range(13):\n",
    "    dd = []\n",
    "    for i in range(6):\n",
    "        d = (i + 1) * bond.iloc[j, i] / (1 + spotRate[i])**(i + 2)\n",
    "        dd.append(d)\n",
    "    \n",
    "    bond_sum = sum(dd)\n",
    "    Bond_DD.append(bond_sum)\n",
    "\n",
    "Bond_DD"
   ]
  },
  {
   "cell_type": "code",
   "execution_count": 156,
   "id": "9da305a1",
   "metadata": {},
   "outputs": [],
   "source": [
    "# dollar duration of liabilities\n",
    "liabilities\n",
    "l = []\n",
    "for i in range(6):\n",
    "    l_D = (i + 1) * liabilities[i] / (1 + spotRate[i])**(i + 2)\n",
    "    l.append(l_D)\n",
    "liabilities_dollarDuration = sum(l)"
   ]
  },
  {
   "cell_type": "code",
   "execution_count": 157,
   "id": "41b461db",
   "metadata": {},
   "outputs": [
    {
     "data": {
      "text/plain": [
       "9863.211578452068"
      ]
     },
     "execution_count": 157,
     "metadata": {},
     "output_type": "execute_result"
    }
   ],
   "source": [
    "liabilities_dollarDuration"
   ]
  },
  {
   "cell_type": "markdown",
   "id": "97be37e2",
   "metadata": {},
   "source": [
    "in this case the constraints are : \n",
    "- 484.81772630028456x1+441.7837348255197x2+456.12839865044134x3 +382.60293221465054x4 +393.53388515906147x5 +\n",
    "      329.37238347580234x6 + 321.61160267687325x7+ 283.75420557859707x8+ 273.8887979543835x9+ 264.0233903301699x10+\n",
    "      194.0936548208736x11 + 186.3283584082791x12 + 90.63388030759255x13 > = 9863.211578452068\n",
    "      \n",
    "- 109x1+94.8x2+99.5x3+93.1x4+97.2x5+96.3x6+92.9x7+110x8+104x9+101x10+107x11+102x12+95.2x13 >= 2757.9367548911464\n",
    "\n",
    "\n",
    "so A and b are :\n"
   ]
  },
  {
   "cell_type": "code",
   "execution_count": 158,
   "id": "0e57d5be",
   "metadata": {},
   "outputs": [
    {
     "data": {
      "text/plain": [
       "array([[-484.8177263 , -441.78373483, -456.12839865, -382.60293221,\n",
       "        -393.53388516, -329.37238348, -321.61160268, -283.75420558,\n",
       "        -273.88879795, -264.02339033, -194.09365482, -186.32835841,\n",
       "         -90.63388031],\n",
       "       [-109.        ,  -94.8       ,  -99.5       ,  -93.1       ,\n",
       "         -97.2       ,  -96.3       ,  -92.9       , -110.        ,\n",
       "        -104.        , -101.        , -107.        , -102.        ,\n",
       "         -95.2       ]])"
      ]
     },
     "execution_count": 158,
     "metadata": {},
     "output_type": "execute_result"
    }
   ],
   "source": [
    "negative_Bond_DD = np.array(Bond_DD) * -1\n",
    "negative_price = np.array(bond[\"price\"]) * -1\n",
    "A_3 = np.row_stack((negative_Bond_DD, negative_price))\n",
    "A_3"
   ]
  },
  {
   "cell_type": "code",
   "execution_count": 159,
   "id": "25d0cccd",
   "metadata": {},
   "outputs": [
    {
     "data": {
      "text/plain": [
       "[-9863.211578452068, -2757.9367548911464]"
      ]
     },
     "execution_count": 159,
     "metadata": {},
     "output_type": "execute_result"
    }
   ],
   "source": [
    "b_3 = [-liabilities_dollarDuration,-presentValueLiabilities]\n",
    "b_3"
   ]
  },
  {
   "cell_type": "code",
   "execution_count": 160,
   "id": "508d19ff",
   "metadata": {},
   "outputs": [
    {
     "data": {
      "text/plain": [
       "2757.936754891146"
      ]
     },
     "execution_count": 160,
     "metadata": {},
     "output_type": "execute_result"
    }
   ],
   "source": [
    "lb = np.zeros(13)\n",
    "ub = np.ones(13) * np.inf\n",
    "cost_3 = linprog(c, A_ub=A_3, b_ub=b_3, bounds=list(zip(lb, ub)))\n",
    "cost_3.fun"
   ]
  },
  {
   "cell_type": "code",
   "execution_count": 161,
   "id": "b067144e",
   "metadata": {},
   "outputs": [
    {
     "data": {
      "text/plain": [
       "array([ 0.        ,  2.77722855,  0.        ,  0.        ,  0.        ,\n",
       "        0.        , 26.85312689,  0.        ,  0.        ,  0.        ,\n",
       "        0.        ,  0.        ,  0.        ])"
      ]
     },
     "execution_count": 161,
     "metadata": {},
     "output_type": "execute_result"
    }
   ],
   "source": [
    "cost_3.x"
   ]
  },
  {
   "cell_type": "markdown",
   "id": "9fe89d3d",
   "metadata": {},
   "source": [
    "### Problem2\n",
    "SPDR S&P 500 ETF (SPY), iShares Core US Treasury Bond (GOVT),iShares MSCI Emerging Markets Mini Vol (EEMV),"
   ]
  },
  {
   "cell_type": "code",
   "execution_count": 253,
   "id": "c77f29b4",
   "metadata": {},
   "outputs": [],
   "source": [
    "def stock (share):\n",
    "    data = yf.download (share,start = \"2013-12-01\", end = \"2022-12-31\")\n",
    "    monthly_data = data.resample(\"M\").last()\n",
    "# calculate the percentage change between the adjusted close rate of the last day of the current month\n",
    "# and the last day of the previous month\n",
    "    monthly_data['shift_adj'] = monthly_data['Adj Close'].shift(1)\n",
    "    monthly_data[share] = ((monthly_data['Adj Close'] / monthly_data['shift_adj'] ) - 1)\n",
    "    monthly_data = monthly_data.dropna()\n",
    "    monthlyData = monthly_data[share]\n",
    "    return monthlyData"
   ]
  },
  {
   "cell_type": "code",
   "execution_count": 254,
   "id": "a547f532",
   "metadata": {},
   "outputs": [
    {
     "name": "stdout",
     "output_type": "stream",
     "text": [
      "[*********************100%***********************]  1 of 1 completed\n",
      "[*********************100%***********************]  1 of 1 completed\n",
      "[*********************100%***********************]  1 of 1 completed\n"
     ]
    },
    {
     "data": {
      "text/html": [
       "<div>\n",
       "<style scoped>\n",
       "    .dataframe tbody tr th:only-of-type {\n",
       "        vertical-align: middle;\n",
       "    }\n",
       "\n",
       "    .dataframe tbody tr th {\n",
       "        vertical-align: top;\n",
       "    }\n",
       "\n",
       "    .dataframe thead th {\n",
       "        text-align: right;\n",
       "    }\n",
       "</style>\n",
       "<table border=\"1\" class=\"dataframe\">\n",
       "  <thead>\n",
       "    <tr style=\"text-align: right;\">\n",
       "      <th></th>\n",
       "      <th>SPY</th>\n",
       "      <th>GOVT</th>\n",
       "      <th>EEMV</th>\n",
       "    </tr>\n",
       "    <tr>\n",
       "      <th>Date</th>\n",
       "      <th></th>\n",
       "      <th></th>\n",
       "      <th></th>\n",
       "    </tr>\n",
       "  </thead>\n",
       "  <tbody>\n",
       "    <tr>\n",
       "      <th>2014-01-31</th>\n",
       "      <td>-0.035248</td>\n",
       "      <td>0.012346</td>\n",
       "      <td>-0.081359</td>\n",
       "    </tr>\n",
       "    <tr>\n",
       "      <th>2014-02-28</th>\n",
       "      <td>0.045516</td>\n",
       "      <td>0.002970</td>\n",
       "      <td>0.035874</td>\n",
       "    </tr>\n",
       "    <tr>\n",
       "      <th>2014-03-31</th>\n",
       "      <td>0.008296</td>\n",
       "      <td>-0.004019</td>\n",
       "      <td>0.031746</td>\n",
       "    </tr>\n",
       "  </tbody>\n",
       "</table>\n",
       "</div>"
      ],
      "text/plain": [
       "                 SPY      GOVT      EEMV\n",
       "Date                                    \n",
       "2014-01-31 -0.035248  0.012346 -0.081359\n",
       "2014-02-28  0.045516  0.002970  0.035874\n",
       "2014-03-31  0.008296 -0.004019  0.031746"
      ]
     },
     "execution_count": 254,
     "metadata": {},
     "output_type": "execute_result"
    }
   ],
   "source": [
    "spy_monthly = stock (\"SPY\")\n",
    "govt_monthly = stock(\"GOVT\")\n",
    "eemva_monthly = stock(\"EEMV\")\n",
    "returns = pd.concat([spy_monthly, govt_monthly, eemva_monthly], axis=1)\n",
    "returns.head(3)"
   ]
  },
  {
   "cell_type": "code",
   "execution_count": 164,
   "id": "78776bb7",
   "metadata": {},
   "outputs": [
    {
     "data": {
      "text/html": [
       "<div>\n",
       "<style scoped>\n",
       "    .dataframe tbody tr th:only-of-type {\n",
       "        vertical-align: middle;\n",
       "    }\n",
       "\n",
       "    .dataframe tbody tr th {\n",
       "        vertical-align: top;\n",
       "    }\n",
       "\n",
       "    .dataframe thead th {\n",
       "        text-align: right;\n",
       "    }\n",
       "</style>\n",
       "<table border=\"1\" class=\"dataframe\">\n",
       "  <thead>\n",
       "    <tr style=\"text-align: right;\">\n",
       "      <th></th>\n",
       "      <th>Mean</th>\n",
       "      <th>Std</th>\n",
       "      <th>Geometric_Expected_Return</th>\n",
       "    </tr>\n",
       "  </thead>\n",
       "  <tbody>\n",
       "    <tr>\n",
       "      <th>SPY</th>\n",
       "      <td>0.009270</td>\n",
       "      <td>0.043954</td>\n",
       "      <td>0.008308</td>\n",
       "    </tr>\n",
       "    <tr>\n",
       "      <th>GOVT</th>\n",
       "      <td>0.000743</td>\n",
       "      <td>0.012738</td>\n",
       "      <td>0.000663</td>\n",
       "    </tr>\n",
       "    <tr>\n",
       "      <th>EEMV</th>\n",
       "      <td>0.001845</td>\n",
       "      <td>0.037070</td>\n",
       "      <td>0.001160</td>\n",
       "    </tr>\n",
       "  </tbody>\n",
       "</table>\n",
       "</div>"
      ],
      "text/plain": [
       "          Mean       Std  Geometric_Expected_Return\n",
       "SPY   0.009270  0.043954                   0.008308\n",
       "GOVT  0.000743  0.012738                   0.000663\n",
       "EEMV  0.001845  0.037070                   0.001160"
      ]
     },
     "execution_count": 164,
     "metadata": {},
     "output_type": "execute_result"
    }
   ],
   "source": [
    "stock = (pd.DataFrame({\n",
    "    'Mean': [float(returns[['SPY']].mean()), float(returns[['GOVT']].mean()), float(returns[['EEMV']].mean())],\n",
    "    'Std': [float(returns[['SPY']].std()), float(returns[['GOVT']].std()), float(returns[['EEMV']].std())],\n",
    "    'Geometric_Expected_Return': [(((np.prod(returns['SPY'] + 1))**(1/len(returns['SPY']))) - 1) ,\n",
    "        (((np.prod(returns['GOVT'] + 1))**(1/len(returns['GOVT']))) - 1) ,\n",
    "        (((np.prod(returns['EEMV'] + 1))**(1/len(returns['EEMV']))) - 1) ]}, index=[\"SPY\", \"GOVT\", \"EEMV\"]))\n",
    "stock"
   ]
  },
  {
   "cell_type": "code",
   "execution_count": 171,
   "id": "ea7ee2cf",
   "metadata": {},
   "outputs": [
    {
     "data": {
      "text/plain": [
       "array([[ 1.93197651e-03, -5.49176935e-06,  1.11715105e-03],\n",
       "       [-5.49176935e-06,  1.62256563e-04,  3.00626913e-05],\n",
       "       [ 1.11715105e-03,  3.00626913e-05,  1.37420676e-03]])"
      ]
     },
     "execution_count": 171,
     "metadata": {},
     "output_type": "execute_result"
    }
   ],
   "source": [
    "# Calculate the covariance matrix of the three assets\n",
    "Q = np.cov(returns, rowvar=False)\n",
    "Q"
   ]
  },
  {
   "cell_type": "code",
   "execution_count": 166,
   "id": "025c9d3a",
   "metadata": {},
   "outputs": [
    {
     "data": {
      "text/plain": [
       "(SPY     0.126984\n",
       " GOVT    0.033504\n",
       " EEMV    0.093445\n",
       " dtype: float64,\n",
       " SPY    -0.124871\n",
       " GOVT   -0.034120\n",
       " EEMV   -0.120690\n",
       " dtype: float64)"
      ]
     },
     "execution_count": 166,
     "metadata": {},
     "output_type": "execute_result"
    }
   ],
   "source": [
    "returns.max(), returns.min()"
   ]
  },
  {
   "cell_type": "code",
   "execution_count": 174,
   "id": "1cade872",
   "metadata": {},
   "outputs": [
    {
     "data": {
      "text/plain": [
       "array([0.00830801, 0.00066303, 0.00116008])"
      ]
     },
     "execution_count": 174,
     "metadata": {},
     "output_type": "execute_result"
    }
   ],
   "source": [
    "mu = np.array(stock [\"Geometric_Expected_Return\"].values)\n",
    "mu"
   ]
  },
  {
   "cell_type": "markdown",
   "id": "86471856",
   "metadata": {},
   "source": [
    "##### solve the optimization by Python library cvxpy\n",
    "\n",
    "The Problem class is the entry point to specifying and solving optimization problems. Each Problem instance encapsulates an optimization problem, i.e., an objective and a set of constraints. The solve() method either solves the problem encoded by the instance, returning the optimal value and setting variables values to optimal points, or reports that the problem was in fact infeasible or unbounded. (https://www.cvxpy.org/api_reference/cvxpy.problems.html)\n",
    "\n",
    "\\begin{equation}\n",
    "\\begin{array}{rl}\n",
    "\\displaystyle \\min_{w} & w^TQw \\\\\n",
    "{\\rm s.t.} & \\mu^Tw \\geq \\varepsilon \\\\\n",
    "&\\sum_i w_i = 1\\\\\n",
    "& w \\geq 0\n",
    "\\end{array}\n",
    "\\end{equation}\n",
    "\\begin{equation}\n",
    "\\varepsilon \\in [\\varepsilon_{R_{\\rm minVar}},\\varepsilon_{R_{\\rm maxRet}}]\n",
    "\\end{equation}"
   ]
  },
  {
   "cell_type": "code",
   "execution_count": 219,
   "id": "fc312956",
   "metadata": {},
   "outputs": [
    {
     "data": {
      "text/plain": [
       "array([0.0001    , 0.00026122, 0.00042245, 0.00058367, 0.0007449 ,\n",
       "       0.00090612, 0.00106735, 0.00122857, 0.0013898 , 0.00155102,\n",
       "       0.00171224, 0.00187347, 0.00203469, 0.00219592, 0.00235714,\n",
       "       0.00251837, 0.00267959, 0.00284082, 0.00300204, 0.00316327,\n",
       "       0.00332449, 0.00348571, 0.00364694, 0.00380816, 0.00396939,\n",
       "       0.00413061, 0.00429184, 0.00445306, 0.00461429, 0.00477551,\n",
       "       0.00493673, 0.00509796, 0.00525918, 0.00542041, 0.00558163,\n",
       "       0.00574286, 0.00590408, 0.00606531, 0.00622653, 0.00638776,\n",
       "       0.00654898, 0.0067102 , 0.00687143, 0.00703265, 0.00719388,\n",
       "       0.0073551 , 0.00751633, 0.00767755, 0.00783878, 0.008     ])"
      ]
     },
     "execution_count": 219,
     "metadata": {},
     "output_type": "execute_result"
    }
   ],
   "source": [
    "targetRet = np.linspace(0.0001,0.008,50)\n",
    "targetRet"
   ]
  },
  {
   "cell_type": "code",
   "execution_count": 236,
   "id": "1943d2ab",
   "metadata": {},
   "outputs": [],
   "source": [
    "w = cp.Variable(3)\n",
    "weight = []\n",
    "returns = []\n",
    "for eps in targetRet: \n",
    "    prob3 = cp.Problem(cp.Minimize(cp.quad_form(w, Q)),\n",
    "                 [mu.T@w >= eps,\n",
    "                  sum(w) == 1,\n",
    "                  w >= 0])\n",
    "    prob3.solve(verbose=False)\n",
    "    weight.append(w.value)    "
   ]
  },
  {
   "cell_type": "code",
   "execution_count": 245,
   "id": "9f30da76",
   "metadata": {},
   "outputs": [],
   "source": [
    "portfolio_retuen = []\n",
    "portfolio_variance = []\n",
    "for i in range(len(weight)):\n",
    "    returns = np.dot(mu,weight[i])\n",
    "    portfolio_retuen.append(returns)\n",
    "    variance = np.dot(weight[i],np.dot(Q,weight[i]))\n",
    "    portfolio_variance.append(variance)"
   ]
  },
  {
   "cell_type": "code",
   "execution_count": 251,
   "id": "2ee62f06",
   "metadata": {},
   "outputs": [
    {
     "data": {
      "image/png": "[encoded data removed]",
      "text/plain": [
       "<Figure size 640x480 with 1 Axes>"
      ]
     },
     "metadata": {},
     "output_type": "display_data"
    }
   ],
   "source": [
    "plt.plot(portfolio_variance, portfolio_retuen, label='Line 1')\n",
    "plt.show()"
   ]
  },
  {
   "cell_type": "code",
   "execution_count": 257,
   "id": "6e03d8a5",
   "metadata": {},
   "outputs": [
    {
     "name": "stdout",
     "output_type": "stream",
     "text": [
      "[*********************100%***********************]  1 of 1 completed\n",
      "[*********************100%***********************]  1 of 1 completed\n",
      "[*********************100%***********************]  1 of 1 completed\n",
      "[*********************100%***********************]  1 of 1 completed\n",
      "[*********************100%***********************]  1 of 1 completed\n"
     ]
    },
    {
     "data": {
      "text/html": [
       "<div>\n",
       "<style scoped>\n",
       "    .dataframe tbody tr th:only-of-type {\n",
       "        vertical-align: middle;\n",
       "    }\n",
       "\n",
       "    .dataframe tbody tr th {\n",
       "        vertical-align: top;\n",
       "    }\n",
       "\n",
       "    .dataframe thead th {\n",
       "        text-align: right;\n",
       "    }\n",
       "</style>\n",
       "<table border=\"1\" class=\"dataframe\">\n",
       "  <thead>\n",
       "    <tr style=\"text-align: right;\">\n",
       "      <th></th>\n",
       "      <th>SPY</th>\n",
       "      <th>GOVT</th>\n",
       "      <th>EEMV</th>\n",
       "      <th>CME</th>\n",
       "      <th>BR</th>\n",
       "      <th>CBOE</th>\n",
       "      <th>ICE</th>\n",
       "      <th>ACN</th>\n",
       "    </tr>\n",
       "    <tr>\n",
       "      <th>Date</th>\n",
       "      <th></th>\n",
       "      <th></th>\n",
       "      <th></th>\n",
       "      <th></th>\n",
       "      <th></th>\n",
       "      <th></th>\n",
       "      <th></th>\n",
       "      <th></th>\n",
       "    </tr>\n",
       "  </thead>\n",
       "  <tbody>\n",
       "    <tr>\n",
       "      <th>2014-01-31</th>\n",
       "      <td>-0.035248</td>\n",
       "      <td>0.012346</td>\n",
       "      <td>-0.081359</td>\n",
       "      <td>-0.047157</td>\n",
       "      <td>-0.081730</td>\n",
       "      <td>0.001155</td>\n",
       "      <td>-0.071715</td>\n",
       "      <td>-0.028460</td>\n",
       "    </tr>\n",
       "    <tr>\n",
       "      <th>2014-02-28</th>\n",
       "      <td>0.045516</td>\n",
       "      <td>0.002970</td>\n",
       "      <td>0.035874</td>\n",
       "      <td>-0.012574</td>\n",
       "      <td>0.040507</td>\n",
       "      <td>0.042122</td>\n",
       "      <td>0.000240</td>\n",
       "      <td>0.043440</td>\n",
       "    </tr>\n",
       "    <tr>\n",
       "      <th>2014-03-31</th>\n",
       "      <td>0.008296</td>\n",
       "      <td>-0.004019</td>\n",
       "      <td>0.031746</td>\n",
       "      <td>0.008914</td>\n",
       "      <td>-0.010994</td>\n",
       "      <td>0.047566</td>\n",
       "      <td>-0.049766</td>\n",
       "      <td>-0.043551</td>\n",
       "    </tr>\n",
       "  </tbody>\n",
       "</table>\n",
       "</div>"
      ],
      "text/plain": [
       "                 SPY      GOVT      EEMV       CME        BR      CBOE  \\\n",
       "Date                                                                     \n",
       "2014-01-31 -0.035248  0.012346 -0.081359 -0.047157 -0.081730  0.001155   \n",
       "2014-02-28  0.045516  0.002970  0.035874 -0.012574  0.040507  0.042122   \n",
       "2014-03-31  0.008296 -0.004019  0.031746  0.008914 -0.010994  0.047566   \n",
       "\n",
       "                 ICE       ACN  \n",
       "Date                            \n",
       "2014-01-31 -0.071715 -0.028460  \n",
       "2014-02-28  0.000240  0.043440  \n",
       "2014-03-31 -0.049766 -0.043551  "
      ]
     },
     "execution_count": 257,
     "metadata": {},
     "output_type": "execute_result"
    }
   ],
   "source": [
    "cme_monthly = stock (\"CME\")\n",
    "br_monthly = stock(\"BR\")\n",
    "cboe_monthly = stock(\"CBOE\")\n",
    "ice_monthly = stock(\"ICE\")\n",
    "acn_monthly = stock(\"ACN\")\n",
    "return_8 = pd.concat([returns, cme_monthly, br_monthly,cboe_monthly,ice_monthly,acn_monthly], axis=1)\n",
    "return_8.head(3)"
   ]
  },
  {
   "cell_type": "code",
   "execution_count": 259,
   "id": "f288779d",
   "metadata": {},
   "outputs": [
    {
     "data": {
      "text/html": [
       "<div>\n",
       "<style scoped>\n",
       "    .dataframe tbody tr th:only-of-type {\n",
       "        vertical-align: middle;\n",
       "    }\n",
       "\n",
       "    .dataframe tbody tr th {\n",
       "        vertical-align: top;\n",
       "    }\n",
       "\n",
       "    .dataframe thead th {\n",
       "        text-align: right;\n",
       "    }\n",
       "</style>\n",
       "<table border=\"1\" class=\"dataframe\">\n",
       "  <thead>\n",
       "    <tr style=\"text-align: right;\">\n",
       "      <th></th>\n",
       "      <th>Mean</th>\n",
       "      <th>Std</th>\n",
       "      <th>Geometric_Expected_Return</th>\n",
       "    </tr>\n",
       "  </thead>\n",
       "  <tbody>\n",
       "    <tr>\n",
       "      <th>SPY</th>\n",
       "      <td>0.009270</td>\n",
       "      <td>0.043954</td>\n",
       "      <td>0.008308</td>\n",
       "    </tr>\n",
       "    <tr>\n",
       "      <th>GOVT</th>\n",
       "      <td>0.000743</td>\n",
       "      <td>0.012738</td>\n",
       "      <td>0.000663</td>\n",
       "    </tr>\n",
       "    <tr>\n",
       "      <th>EEMV</th>\n",
       "      <td>0.001845</td>\n",
       "      <td>0.037070</td>\n",
       "      <td>0.001160</td>\n",
       "    </tr>\n",
       "    <tr>\n",
       "      <th>CME</th>\n",
       "      <td>0.011867</td>\n",
       "      <td>0.054620</td>\n",
       "      <td>0.010408</td>\n",
       "    </tr>\n",
       "    <tr>\n",
       "      <th>BR</th>\n",
       "      <td>0.014846</td>\n",
       "      <td>0.062337</td>\n",
       "      <td>0.012937</td>\n",
       "    </tr>\n",
       "    <tr>\n",
       "      <th>CBOE</th>\n",
       "      <td>0.010789</td>\n",
       "      <td>0.062717</td>\n",
       "      <td>0.008803</td>\n",
       "    </tr>\n",
       "    <tr>\n",
       "      <th>ICE</th>\n",
       "      <td>0.010454</td>\n",
       "      <td>0.059593</td>\n",
       "      <td>0.008722</td>\n",
       "    </tr>\n",
       "    <tr>\n",
       "      <th>ACN</th>\n",
       "      <td>0.014452</td>\n",
       "      <td>0.063561</td>\n",
       "      <td>0.012449</td>\n",
       "    </tr>\n",
       "  </tbody>\n",
       "</table>\n",
       "</div>"
      ],
      "text/plain": [
       "          Mean       Std  Geometric_Expected_Return\n",
       "SPY   0.009270  0.043954                   0.008308\n",
       "GOVT  0.000743  0.012738                   0.000663\n",
       "EEMV  0.001845  0.037070                   0.001160\n",
       "CME   0.011867  0.054620                   0.010408\n",
       "BR    0.014846  0.062337                   0.012937\n",
       "CBOE  0.010789  0.062717                   0.008803\n",
       "ICE   0.010454  0.059593                   0.008722\n",
       "ACN   0.014452  0.063561                   0.012449"
      ]
     },
     "execution_count": 259,
     "metadata": {},
     "output_type": "execute_result"
    }
   ],
   "source": [
    "stocks = (pd.DataFrame({\n",
    "    'Mean': [float(return_8[['SPY']].mean()), float(return_8[['GOVT']].mean()), float(return_8[['EEMV']].mean()),\n",
    "            float(return_8[['CME']].mean()), float(return_8[['BR']].mean()), float(return_8[['CBOE']].mean()),\n",
    "            float(return_8[['ICE']].mean()), float(return_8[['ACN']].mean())],\n",
    "    'Std': [float(return_8[['SPY']].std()), float(return_8[['GOVT']].std()), float(return_8[['EEMV']].std()),\n",
    "           float(return_8[['CME']].std()), float(return_8[['BR']].std()), float(return_8[['CBOE']].std()),\n",
    "            float(return_8[['ICE']].std()), float(return_8[['ACN']].std())],\n",
    "    'Geometric_Expected_Return': [(((np.prod(return_8['SPY'] + 1))**(1/len(return_8['SPY']))) - 1) ,\n",
    "        (((np.prod(return_8['GOVT'] + 1))**(1/len(return_8['GOVT']))) - 1) ,\n",
    "        (((np.prod(return_8['EEMV'] + 1))**(1/len(return_8['EEMV']))) - 1),\n",
    "        (((np.prod(return_8['CME'] + 1))**(1/len(return_8['CME']))) - 1) ,                         \n",
    "        (((np.prod(return_8['BR'] + 1))**(1/len(return_8['BR']))) - 1) ,                         \n",
    "        (((np.prod(return_8['CBOE'] + 1))**(1/len(return_8['CBOE']))) - 1) ,                         \n",
    "        (((np.prod(return_8['ICE'] + 1))**(1/len(return_8['ICE']))) - 1) ,                         \n",
    "        (((np.prod(return_8['ACN'] + 1))**(1/len(return_8['ACN']))) - 1) \n",
    "                                 ]}, index=[\"SPY\", \"GOVT\", \"EEMV\",\"CME\",\"BR\",\"CBOE\",\"ICE\",\"ACN\"]))\n",
    "stocks"
   ]
  },
  {
   "cell_type": "code",
   "execution_count": 260,
   "id": "894251e7",
   "metadata": {},
   "outputs": [
    {
     "data": {
      "text/plain": [
       "array([[ 1.93197800e-03, -5.49200065e-06,  1.11715184e-03,\n",
       "         8.82226608e-04,  1.79533731e-03,  1.01503805e-03,\n",
       "         1.65569936e-03,  2.33232843e-03],\n",
       "       [-5.49200065e-06,  1.62257344e-04,  3.00638737e-05,\n",
       "        -3.74186598e-05,  1.09620357e-04,  3.17663763e-05,\n",
       "         4.54740596e-05,  6.39848848e-05],\n",
       "       [ 1.11715184e-03,  3.00638737e-05,  1.37420721e-03,\n",
       "         3.04156746e-04,  9.59232013e-04,  3.43437826e-04,\n",
       "         6.49912864e-04,  1.07370960e-03],\n",
       "       [ 8.82226608e-04, -3.74186598e-05,  3.04156746e-04,\n",
       "         2.98329129e-03,  1.18355639e-03,  1.74100404e-03,\n",
       "         1.96846295e-03,  1.16791309e-03],\n",
       "       [ 1.79533731e-03,  1.09620357e-04,  9.59232013e-04,\n",
       "         1.18355639e-03,  3.88587416e-03,  1.07993093e-03,\n",
       "         1.74641119e-03,  2.70115966e-03],\n",
       "       [ 1.01503805e-03,  3.17663763e-05,  3.43437826e-04,\n",
       "         1.74100404e-03,  1.07993093e-03,  3.93339737e-03,\n",
       "         1.66391760e-03,  1.37726863e-03],\n",
       "       [ 1.65569936e-03,  4.54740596e-05,  6.49912864e-04,\n",
       "         1.96846295e-03,  1.74641119e-03,  1.66391760e-03,\n",
       "         3.55136295e-03,  2.31300675e-03],\n",
       "       [ 2.33232843e-03,  6.39848848e-05,  1.07370960e-03,\n",
       "         1.16791309e-03,  2.70115966e-03,  1.37726863e-03,\n",
       "         2.31300675e-03,  4.04000321e-03]])"
      ]
     },
     "execution_count": 260,
     "metadata": {},
     "output_type": "execute_result"
    }
   ],
   "source": [
    "# Calculate the covariance matrix \n",
    "Q8 = np.cov(return_8, rowvar=False)\n",
    "Q8"
   ]
  },
  {
   "cell_type": "code",
   "execution_count": 261,
   "id": "c7bae59f",
   "metadata": {},
   "outputs": [
    {
     "data": {
      "text/plain": [
       "(SPY     0.126983\n",
       " GOVT    0.033504\n",
       " EEMV    0.093445\n",
       " CME     0.161292\n",
       " BR      0.223242\n",
       " CBOE    0.176011\n",
       " ICE     0.205888\n",
       " ACN     0.159905\n",
       " dtype: float64,\n",
       " SPY    -0.124871\n",
       " GOVT   -0.034120\n",
       " EEMV   -0.120690\n",
       " CME    -0.126887\n",
       " BR     -0.153218\n",
       " CBOE   -0.217105\n",
       " ICE    -0.123448\n",
       " ACN    -0.144864\n",
       " dtype: float64)"
      ]
     },
     "execution_count": 261,
     "metadata": {},
     "output_type": "execute_result"
    }
   ],
   "source": [
    "return_8.max(), return_8.min()"
   ]
  },
  {
   "cell_type": "code",
   "execution_count": 262,
   "id": "d9915147",
   "metadata": {},
   "outputs": [
    {
     "data": {
      "text/plain": [
       "array([0.00830801, 0.00066303, 0.00116008, 0.0104083 , 0.01293682,\n",
       "       0.00880259, 0.00872234, 0.01244869])"
      ]
     },
     "execution_count": 262,
     "metadata": {},
     "output_type": "execute_result"
    }
   ],
   "source": [
    "mu = np.array(stocks [\"Geometric_Expected_Return\"].values)\n",
    "mu"
   ]
  },
  {
   "cell_type": "code",
   "execution_count": 263,
   "id": "78f8715a",
   "metadata": {},
   "outputs": [],
   "source": [
    "w = cp.Variable(8)\n",
    "weight = []\n",
    "returns = []\n",
    "for eps in targetRet: \n",
    "    prob3 = cp.Problem(cp.Minimize(cp.quad_form(w, Q8)),\n",
    "                 [mu.T@w >= eps,\n",
    "                  sum(w) == 1,\n",
    "                  w >= 0])\n",
    "    prob3.solve(verbose=False)\n",
    "    weight.append(w.value) "
   ]
  },
  {
   "cell_type": "code",
   "execution_count": 264,
   "id": "cdfce5ef",
   "metadata": {},
   "outputs": [],
   "source": [
    "portfolio_retuen = []\n",
    "portfolio_variance = []\n",
    "for i in range(len(weight)):\n",
    "    returns = np.dot(mu,weight[i])\n",
    "    portfolio_retuen.append(returns)\n",
    "    variance = np.dot(weight[i],np.dot(Q8,weight[i]))\n",
    "    portfolio_variance.append(variance)"
   ]
  },
  {
   "cell_type": "code",
   "execution_count": 265,
   "id": "7d4091f8",
   "metadata": {},
   "outputs": [
    {
     "data": {
      "image/png": "[encoded data removed]",
      "text/plain": [
       "<Figure size 640x480 with 1 Axes>"
      ]
     },
     "metadata": {},
     "output_type": "display_data"
    }
   ],
   "source": [
    "plt.plot(portfolio_variance, portfolio_retuen, label='Line 1')\n",
    "plt.show()"
   ]
  },
  {
   "cell_type": "code",
   "execution_count": null,
   "id": "9b5fa098",
   "metadata": {},
   "outputs": [],
   "source": []
  }
 ],
 "metadata": {
  "kernelspec": {
   "display_name": "Python 3 (ipykernel)",
   "language": "python",
   "name": "python3"
  },
  "language_info": {
   "codemirror_mode": {
    "name": "ipython",
    "version": 3
   },
   "file_extension": ".py",
   "mimetype": "text/x-python",
   "name": "python",
   "nbconvert_exporter": "python",
   "pygments_lexer": "ipython3",
   "version": "3.9.16"
  }
 },
 "nbformat": 4,
 "nbformat_minor": 5
}
